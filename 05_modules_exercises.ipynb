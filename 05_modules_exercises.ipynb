{
 "cells": [
  {
   "cell_type": "markdown",
   "id": "ae519a1b",
   "metadata": {},
   "source": [
    "### Importing modules in Python\n",
    "* We normally use prewritten and thoroughly tested code \n",
    "* In Python, we import code using **import**\n",
    "* Code in the Python Standard Library is always available and reliable\n",
    "* For Data Science there are external modules and libraries that are used\n",
    "* Including NumPy, pandas, sklearn, matplotlib, seaborn \n",
    "\n",
    "#### This notebook illustrates the idea of importing useful modules"
   ]
  },
  {
   "cell_type": "markdown",
   "id": "3030272b",
   "metadata": {},
   "source": [
    "### Using a standard library module\n",
    "\n",
    "#### Exercise 1\n",
    "1. The Python list in the next cell contanins numbers, possibly collected data or sensor readings\n",
    "1. Import the Python standard library module statistics (the convention is to do imports first in a cell or program)\n",
    "1. To see what functions are available, use dir() or look at the documentation https://docs.python.org/3/library/statistics.html\n",
    "1. Work out:\n",
    "    1. The mean\n",
    "    1. The standard deviation\n",
    "1. Print out the answers \n",
    "1. Run the code cell (Menu or Ctrl-Enter)"
   ]
  },
  {
   "cell_type": "code",
   "execution_count": 8,
   "id": "5b4fb059",
   "metadata": {},
   "outputs": [
    {
     "name": "stdout",
     "output_type": "stream",
     "text": [
      "The mean reading is 3.04 and the standard deviation of the readings is 1.99\n"
     ]
    }
   ],
   "source": [
    "# Complete the code\n",
    "readings = [1,2,3.1,1,1,7.2,3.5,3,4,2,5.6]\n"
   ]
  },
  {
   "cell_type": "markdown",
   "id": "da5960bd",
   "metadata": {},
   "source": [
    "### Using an external library module\n",
    "#### This is just an example of using library code, if plotting is unfamiliar you will cover it properly later in the programme\n",
    "* You might need to install external modules yourself using pip install or conda install\n",
    "* ... but several are included in the Anaconda distribution we are using\n",
    "* Once installed, we import the code the same way, using import\n",
    "\n",
    "#### Exercise 2\n",
    "1. Look at the documentation for the Seaborn plotting library to see what is available\n",
    "1. https://seaborn.pydata.org/\n",
    "1. Plot the squares of the first 100 integers as a line graph\n",
    "1. Use the **lineplot** function, and notice that most of its parameters are optional\n",
    "   1. You do need to give it the data to plot\n",
    "   1. https://seaborn.pydata.org/generated/seaborn.lineplot.html?highlight=line#seaborn.lineplot\n",
    "   1. You could experiment with the other parameters, eg changing colour "
   ]
  },
  {
   "cell_type": "code",
   "execution_count": 9,
   "id": "e0b940d8",
   "metadata": {
    "scrolled": true
   },
   "outputs": [
    {
     "data": {
      "image/png": "[encoded data removed]",
      "text/plain": [
       "<Figure size 432x288 with 1 Axes>"
      ]
     },
     "metadata": {
      "needs_background": "light"
     },
     "output_type": "display_data"
    }
   ],
   "source": [
    "# Using a non standard library module that is included in the Anaconda distribution of Python\n",
    "# Complete the code\n",
    "\n",
    "X = range(100)\n",
    "Y = [x*x for x in X]\n"
   ]
  },
  {
   "cell_type": "markdown",
   "id": "6f4a1b02",
   "metadata": {},
   "source": [
    "### Changing the name of a module you import\n",
    "* Many commonly used modules have conventional short names (alias)\n",
    "* Use **import .... as ....**\n",
    "* Pandas is imported as pd .... **import pandas as pd**\n",
    "* Numpy is imported as np\n",
    "* Seaborn is imported as sns\n",
    "* This is just a convention but makes your code easier to follow, as everyone does the same thing"
   ]
  },
  {
   "cell_type": "markdown",
   "id": "2958e88a",
   "metadata": {},
   "source": [
    "### Import a library module with an alias\n",
    "* Seaborn comes with several built in datasets, one is **tips** which has data on meals and tips\n",
    "* It is loaded with the function load_dataset()\n",
    "* to see all sample datasets use the function get_dataset_names()\n",
    "#### Exercise 3\n",
    "1. Import seaborn but call it sns\n",
    "1. Use a scatter plot to plot the data in the next cell\n",
    "1. https://seaborn.pydata.org/generated/seaborn.scatterplot.html\n",
    "1. You need to call functions using the sns alias"
   ]
  },
  {
   "cell_type": "code",
   "execution_count": 10,
   "id": "93d369b0",
   "metadata": {
    "scrolled": true
   },
   "outputs": [
    {
     "data": {
      "image/png": "[encoded data removed]",
      "text/plain": [
       "<Figure size 432x288 with 1 Axes>"
      ]
     },
     "metadata": {
      "needs_background": "light"
     },
     "output_type": "display_data"
    }
   ],
   "source": [
    "# Complete the code to produce the graph\n",
    "tipsdata = sns.load_dataset(\"tips\")\n",
    "X = tipsdata[\"tip\"]\n",
    "Y = tipsdata[\"total_bill\"]\n"
   ]
  },
  {
   "cell_type": "markdown",
   "id": "14c429ac",
   "metadata": {},
   "source": [
    "### Install a module that is not part of your distribution\n",
    "\n",
    "* Use !pip install in a notebook code cell (the ! lets you run non Python commands)\n",
    "* Some caution is needed as even PyPi has had occasional issues with malware, so be sure you are installing what you meant to!\n",
    "\n",
    "#### Exercise 4\n",
    "\n",
    "1. Use pip install to add a package you are interested in using \n",
    "1. For example Django (A popular Python web framework)\n",
    "1. Try **import django**\n",
    "1. You will probably get a ModuleNotFoundError\n",
    "1. Use !pip install django \n",
    "1. Try the import again\n",
    "1. Assuming that all worked, the classes and functions of Djando are now available in the notebook."
   ]
  },
  {
   "cell_type": "markdown",
   "id": "c7678b90",
   "metadata": {},
   "source": [
    "### Other forms of import\n",
    "\n",
    "* If you only need a few functions or a subsection of a large package, you can use the form **from statistics import mean**\n",
    "* You will see this later on, for example in the large SKLearn package **from sklearn import linear_model**\n"
   ]
  },
  {
   "cell_type": "markdown",
   "id": "7140d925",
   "metadata": {},
   "source": [
    "### Where do you look for modules to use?\n",
    "* The Python Standard Library\n",
    "* PyPI the Python Package Index https://pypi.org/\n"
   ]
  },
  {
   "cell_type": "markdown",
   "id": "f3d38d4f",
   "metadata": {},
   "source": [
    "### Writing your own modules\n",
    "* A Python module is just a python file containing functions\n",
    "* It can be imported in the same way as any other module, provided Python can find it - the current directory is one place it can be found\n",
    "* For data science you are unlikely to need to write and import your own functions at this stage.\n",
    "* Later on you may create or use libraries of functions specific to your work."
   ]
  }
 ],
 "metadata": {
  "kernelspec": {
   "display_name": "Python 3",
   "language": "python",
   "name": "python3"
  },
  "language_info": {
   "codemirror_mode": {
    "name": "ipython",
    "version": 3
   },
   "file_extension": ".py",
   "mimetype": "text/x-python",
   "name": "python",
   "nbconvert_exporter": "python",
   "pygments_lexer": "ipython3",
   "version": "3.8.8"
  }
 },
 "nbformat": 4,
 "nbformat_minor": 5
}
