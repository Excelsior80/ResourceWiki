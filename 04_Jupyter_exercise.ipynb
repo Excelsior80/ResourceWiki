{
 "cells": [
  {
   "cell_type": "code",
   "execution_count": null,
   "metadata": {},
   "outputs": [],
   "source": []
  },
  {
   "cell_type": "markdown",
   "metadata": {
    "slideshow": {
     "slide_type": "-"
    }
   },
   "source": [
    "# Jupyter Notebook\n",
    "### Python for Data Science & Analysis "
   ]
  },
  {
   "cell_type": "markdown",
   "metadata": {
    "slideshow": {
     "slide_type": "slide"
    }
   },
   "source": [
    "---\n",
    "### Objectives\n",
    "* Start jupyter notebook\n",
    "* Create a new notebook\n",
    "* Rename a notebook\n",
    "* Add a text cell\n",
    "* Add a code cell\n",
    "* Run cells\n",
    "---\n",
    "\n",
    "Work through this notebook and try running each cell.\n"
   ]
  },
  {
   "cell_type": "markdown",
   "metadata": {
    "slideshow": {
     "slide_type": "slide"
    }
   },
   "source": [
    "## The Anaconda Python distribution"
   ]
  },
  {
   "cell_type": "markdown",
   "metadata": {
    "slideshow": {
     "slide_type": "fragment"
    }
   },
   "source": [
    "Anaconda is a collection of python packages, programs and other software for data analysis & data science.\n",
    "https://www.anaconda.com/"
   ]
  },
  {
   "cell_type": "markdown",
   "metadata": {
    "slideshow": {
     "slide_type": "fragment"
    }
   },
   "source": [
    "## What is jupyter notebook?"
   ]
  },
  {
   "cell_type": "markdown",
   "metadata": {
    "slideshow": {
     "slide_type": "fragment"
    }
   },
   "source": [
    "A notebook is a reporting style of programming, where the key elements are explanations & comments. The code is less important, and often only small amounts, and the output is part of the notebook. "
   ]
  },
  {
   "cell_type": "markdown",
   "metadata": {
    "slideshow": {
     "slide_type": "slide"
    }
   },
   "source": [
    "## How do I start Anaconda?"
   ]
  },
  {
   "cell_type": "markdown",
   "metadata": {
    "slideshow": {
     "slide_type": "fragment"
    }
   },
   "source": [
    "Start Menu > Anaconda Navigator"
   ]
  },
  {
   "cell_type": "markdown",
   "metadata": {
    "slideshow": {
     "slide_type": "fragment"
    }
   },
   "source": [
    "## How do I start jupyter notebook?"
   ]
  },
  {
   "cell_type": "markdown",
   "metadata": {
    "slideshow": {
     "slide_type": "fragment"
    }
   },
   "source": [
    "* In Anaconda Navigator, press `LAUNCH` underneath the jupyter notebook icon...\n",
    "\n",
    "* Or start Jupyter notebook directly from the start menu"
   ]
  },
  {
   "cell_type": "markdown",
   "metadata": {
    "slideshow": {
     "slide_type": "slide"
    }
   },
   "source": [
    "## How do I use the file browser?"
   ]
  },
  {
   "cell_type": "markdown",
   "metadata": {
    "slideshow": {
     "slide_type": "fragment"
    }
   },
   "source": [
    "Jupyter notebook starts with a file browser that displays files on your system. \n",
    "\n",
    "eg., browse to your documents folder in jupyter."
   ]
  },
  {
   "cell_type": "markdown",
   "metadata": {
    "slideshow": {
     "slide_type": "slide"
    }
   },
   "source": [
    "## How do I create notebooks?"
   ]
  },
  {
   "cell_type": "markdown",
   "metadata": {
    "slideshow": {
     "slide_type": "fragment"
    }
   },
   "source": [
    "Navigate to the folder you want to use, go to the `NEW` button, and press `Python3`."
   ]
  },
  {
   "cell_type": "markdown",
   "metadata": {
    "slideshow": {
     "slide_type": "fragment"
    }
   },
   "source": [
    "Jupyter will create a new notebook called `Untitled`."
   ]
  },
  {
   "cell_type": "markdown",
   "metadata": {
    "slideshow": {
     "slide_type": "slide"
    }
   },
   "source": [
    "## How do I rename a notebook?"
   ]
  },
  {
   "cell_type": "markdown",
   "metadata": {
    "slideshow": {
     "slide_type": "fragment"
    }
   },
   "source": [
    "* Click on the title and a renaming box will appear, choose, eg., `MyNotes`. \n",
    "* Or use the file menu"
   ]
  },
  {
   "cell_type": "markdown",
   "metadata": {
    "slideshow": {
     "slide_type": "slide"
    }
   },
   "source": [
    "## How do I add and modify cells?"
   ]
  },
  {
   "cell_type": "markdown",
   "metadata": {
    "slideshow": {
     "slide_type": "fragment"
    }
   },
   "source": [
    "### command mode: ESC (blue bar)\n",
    "- `arrows` move around notebook\n",
    "- `m` -- markdown / text cell\n",
    "- `y` -- code cell / python cell\n",
    "- `a` -- insert cell above\n",
    "- `b` -- insert cell below\n",
    "- `dd` -- delete cell\n",
    "- `z` -- undo delete\n",
    "- `CTRL+ENTER` to run\n",
    "- `SHITT+ENTER` to run & move one cell below\n",
    "    "
   ]
  },
  {
   "cell_type": "markdown",
   "metadata": {
    "slideshow": {
     "slide_type": "slide"
    }
   },
   "source": [
    "## How do I edit the contents of cells?"
   ]
  },
  {
   "cell_type": "markdown",
   "metadata": {
    "slideshow": {
     "slide_type": "fragment"
    }
   },
   "source": [
    "### edit mode:  ENTER (green bar)\n",
    "- type\n",
    "- `arrows` to move around text\n",
    "- `CTRL+ENTER` run cell\n",
    "- `SHIFT+ENTER` run cell & move one cell below"
   ]
  },
  {
   "cell_type": "markdown",
   "metadata": {
    "slideshow": {
     "slide_type": "slide"
    }
   },
   "source": [
    "## How do I add python code to a notebook?"
   ]
  },
  {
   "cell_type": "markdown",
   "metadata": {
    "slideshow": {
     "slide_type": "fragment"
    }
   },
   "source": [
    "Add a cell (eg., press `b`) and press `ENTER` to edit..."
   ]
  },
  {
   "cell_type": "code",
   "execution_count": 10,
   "metadata": {
    "slideshow": {
     "slide_type": "fragment"
    }
   },
   "outputs": [
    {
     "name": "stdout",
     "output_type": "stream",
     "text": [
      "4\n"
     ]
    }
   ],
   "source": [
    "print(2 ** 2)\n"
   ]
  },
  {
   "cell_type": "markdown",
   "metadata": {
    "slideshow": {
     "slide_type": "fragment"
    }
   },
   "source": [
    "## How do I run a python code cell?"
   ]
  },
  {
   "cell_type": "markdown",
   "metadata": {
    "slideshow": {
     "slide_type": "fragment"
    }
   },
   "source": [
    "Press `CTRL + ENTER` or the <i class=\"fa-step-forward fa\"></i> RUN button"
   ]
  },
  {
   "cell_type": "markdown",
   "metadata": {
    "slideshow": {
     "slide_type": "slide"
    }
   },
   "source": [
    "## What happens when I run a code cell in jupyter?\n",
    "\n",
    "Jupyter always `print()`s the **last line...**"
   ]
  },
  {
   "cell_type": "code",
   "execution_count": 11,
   "metadata": {
    "slideshow": {
     "slide_type": "fragment"
    }
   },
   "outputs": [
    {
     "data": {
      "text/plain": [
       "5"
      ]
     },
     "execution_count": 11,
     "metadata": {},
     "output_type": "execute_result"
    }
   ],
   "source": [
    "5"
   ]
  },
  {
   "cell_type": "markdown",
   "metadata": {
    "slideshow": {
     "slide_type": "fragment"
    }
   },
   "source": [
    "In an ordinary python program, you have `print()` everything you wish to show on the screen. "
   ]
  },
  {
   "cell_type": "markdown",
   "metadata": {
    "slideshow": {
     "slide_type": "slide"
    }
   },
   "source": [
    "## How do I add a text cell?"
   ]
  },
  {
   "cell_type": "markdown",
   "metadata": {
    "slideshow": {
     "slide_type": "fragment"
    }
   },
   "source": [
    "Add a cell, change type to markdown"
   ]
  },
  {
   "cell_type": "markdown",
   "metadata": {
    "slideshow": {
     "slide_type": "fragment"
    }
   },
   "source": [
    "or press `m` in COMMAND MODE."
   ]
  },
  {
   "cell_type": "markdown",
   "metadata": {
    "slideshow": {
     "slide_type": "slide"
    }
   },
   "source": [
    "## How do I get help?"
   ]
  },
  {
   "cell_type": "markdown",
   "metadata": {
    "slideshow": {
     "slide_type": "fragment"
    }
   },
   "source": [
    "* `command?`\n",
    "* `command??`\n",
    "* `help(command)`"
   ]
  },
  {
   "cell_type": "markdown",
   "metadata": {
    "slideshow": {
     "slide_type": "fragment"
    }
   },
   "source": [
    "<img src=images/jupyter/intellisense.png width=300px/>"
   ]
  },
  {
   "cell_type": "markdown",
   "metadata": {
    "slideshow": {
     "slide_type": "slide"
    }
   },
   "source": [
    "## How do I find the arguments of a function?"
   ]
  },
  {
   "cell_type": "code",
   "execution_count": 12,
   "metadata": {
    "slideshow": {
     "slide_type": "fragment"
    }
   },
   "outputs": [],
   "source": [
    "import statistics\n",
    "statistics.mean?\n"
   ]
  },
  {
   "cell_type": "markdown",
   "metadata": {
    "slideshow": {
     "slide_type": "slide"
    }
   },
   "source": [
    "## How do I stop jupyter from printing the last line of a cell?\n",
    "\n",
    "Use `;`"
   ]
  },
  {
   "cell_type": "code",
   "execution_count": 13,
   "metadata": {
    "slideshow": {
     "slide_type": "fragment"
    }
   },
   "outputs": [
    {
     "data": {
      "text/plain": [
       "5"
      ]
     },
     "execution_count": 13,
     "metadata": {},
     "output_type": "execute_result"
    }
   ],
   "source": [
    "5\n"
   ]
  },
  {
   "cell_type": "code",
   "execution_count": 14,
   "metadata": {
    "slideshow": {
     "slide_type": "fragment"
    }
   },
   "outputs": [],
   "source": [
    "5;\n"
   ]
  },
  {
   "cell_type": "markdown",
   "metadata": {
    "slideshow": {
     "slide_type": "skip"
    }
   },
   "source": [
    "## How do I see the source code of a function?"
   ]
  },
  {
   "cell_type": "code",
   "execution_count": 15,
   "metadata": {
    "slideshow": {
     "slide_type": "skip"
    }
   },
   "outputs": [],
   "source": [
    "import statistics\n",
    "statistics.mean??\n"
   ]
  },
  {
   "cell_type": "markdown",
   "metadata": {
    "slideshow": {
     "slide_type": "slide"
    }
   },
   "source": [
    "## How do I run command line programs within jupyter?"
   ]
  },
  {
   "cell_type": "markdown",
   "metadata": {
    "slideshow": {
     "slide_type": "fragment"
    }
   },
   "source": [
    "On unix system, to run `ls`:"
   ]
  },
  {
   "cell_type": "code",
   "execution_count": 16,
   "metadata": {
    "slideshow": {
     "slide_type": "fragment"
    }
   },
   "outputs": [
    {
     "name": "stderr",
     "output_type": "stream",
     "text": [
      "'ls' is not recognized as an internal or external command,\n",
      "operable program or batch file.\n"
     ]
    }
   ],
   "source": [
    "!ls\n"
   ]
  },
  {
   "cell_type": "raw",
   "metadata": {
    "slideshow": {
     "slide_type": "fragment"
    }
   },
   "source": [
    "On windows, `dir`:"
   ]
  },
  {
   "cell_type": "code",
   "execution_count": 17,
   "metadata": {
    "slideshow": {
     "slide_type": "slide"
    }
   },
   "outputs": [
    {
     "name": "stdout",
     "output_type": "stream",
     "text": [
      " Volume in drive C is Windows \n",
      " Volume Serial Number is D29B-44B4\n",
      "\n",
      " Directory of C:\\Users\\sjcex\\Desktop\\DSDP_REWORK\\Jupyter_week1\n",
      "\n",
      "26/10/2022  18:38    <DIR>          .\n",
      "26/10/2022  18:38    <DIR>          ..\n",
      "26/10/2022  18:22    <DIR>          .ipynb_checkpoints\n",
      "26/10/2022  18:38            12,272 04_Jupyter_Exercise.ipynb\n",
      "26/10/2022  13:45             5,608 05_modules_exercise.ipynb\n",
      "26/10/2022  13:37            36,123 05_modules_solutions.ipynb\n",
      "26/10/2022  14:38             4,164 06_Classes_exercise.ipynb\n",
      "26/10/2022  14:35             4,243 06_Classes_solutions.ipynb\n",
      "26/10/2022  17:34             5,590 07_Functional_programming_exercise.ipynb\n",
      "26/10/2022  17:37             5,239 07_Functional_programming_solution.ipynb\n",
      "26/10/2022  18:12    <DIR>          Week01_INTRODUCTION_2D\n",
      "               7 File(s)         73,239 bytes\n",
      "               4 Dir(s)  812,473,004,032 bytes free\n"
     ]
    }
   ],
   "source": [
    "!dir\n"
   ]
  },
  {
   "cell_type": "markdown",
   "metadata": {
    "slideshow": {
     "slide_type": "slide"
    }
   },
   "source": [
    "## How do I install python packages with jupyter?"
   ]
  },
  {
   "cell_type": "code",
   "execution_count": null,
   "metadata": {
    "slideshow": {
     "slide_type": "fragment"
    }
   },
   "outputs": [],
   "source": [
    "# To install the external package plotly\n",
    "!pip install plotly\n"
   ]
  },
  {
   "cell_type": "markdown",
   "metadata": {
    "slideshow": {
     "slide_type": "slide"
    }
   },
   "source": [
    "## Exercise (5 min)\n",
    "\n",
    "#### Q1\n",
    "* Create a new notebook\n",
    "* Add a text cell (`b`, `m`)\n",
    "    * set it to contain `# My Notes`\n",
    "    * run it with `CTRL+ENTER`\n",
    "* Add a code cell (`b`)\n",
    "    * containing `print(2 ** 2)`\n",
    "    * run with `CTRL+ENTER`\n",
    "    \n",
    "#### Q2 - using Python in code cells\n",
    "\n",
    "* try `help()` on:\n",
    "    * str.upper\n",
    "    * len\n",
    "* try `?` on:\n",
    "    * str.upper\n",
    "    * str.replace\n",
    "    * ...\n",
    "* try `dir()` on\n",
    "    * \"Michael\"\n",
    "    \n",
    "#### Q3 - Formatting text cells\n",
    "\n",
    "* Write a text cell that includes lists, bold and italic text.\n",
    "* Use https://jupyter-notebook.readthedocs.io/en/stable/examples/Notebook/Working%20With%20Markdown%20Cells.html\n",
    "\n",
    "\n",
    "    "
   ]
  }
 ],
 "metadata": {
  "kernelspec": {
   "display_name": "Python 3",
   "language": "python",
   "name": "python3"
  },
  "language_info": {
   "codemirror_mode": {
    "name": "ipython",
    "version": 3
   },
   "file_extension": ".py",
   "mimetype": "text/x-python",
   "name": "python",
   "nbconvert_exporter": "python",
   "pygments_lexer": "ipython3",
   "version": "3.8.8"
  }
 },
 "nbformat": 4,
 "nbformat_minor": 4
}
