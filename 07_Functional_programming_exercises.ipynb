{
 "cells": [
  {
   "cell_type": "markdown",
   "id": "f279df76",
   "metadata": {},
   "source": [
    "### This chapter introduces functional programming in Python\n",
    "\n",
    "* Functional programming ideas will be relevant later in the programme, especially in the Cloud week and the Problems and Applications week.\n",
    "\n",
    "* Functional programming is not simply *using functions* - that is called modular programming.\n",
    "\n",
    "* In functional programming, you can treat functions as objects, use them as parameters and return values - this is possible in Python\n",
    "\n",
    "* **Pure functions** are functions with no side effects - data is passed in and data is returned, but nothing else changes. This allows functions to be chained in pipelines and used more safely in parallel processing. Pure functions are more like mathematical functions and easier to reason about.\n",
    "\n",
    "* Functions such as map, filter and reduce are often used as part of functional programming.\n",
    "\n",
    "* Data flows through functions and is not modified.\n",
    "\n",
    "* Eventually something in the outside world has to change (eg writing to databases, reading from sensors) - but this is kept separate.\n",
    "\n",
    "* **Haskell** is a purely functional language, used in practice but more for research. Ideas from Haskell have been included in Python, for example list comprehensions.\n",
    "\n",
    "* Functional prgramming can be done using Python.\n"
   ]
  },
  {
   "cell_type": "markdown",
   "id": "4eab6275",
   "metadata": {},
   "source": [
    "### Treating functions as 'first class citizens' in Python\n",
    "* In Python (but not all languages) functions can be assigned to a variable, passed as parameters and returned from other functions.\n",
    "* The first few exercises illustrate this.\n",
    "\n",
    "#### Exercise 1\n",
    "1. Create a variable my_var and assign the len function to the variable.\n",
    "1. Check that my_var(\"test\") gives the same answer as len(\"test\")\n",
    "\n",
    "#### Exercise 2\n",
    "1. Write a function my_fn that has two parameters, a function and a list of numbers\n",
    "1. Return the result of calling the function on the list of numbers.\n",
    "1. This is just for the general idea, no need to add proper checks!\n",
    "1. The aim is that my_fn(len, \\[1,2,3\\]) returns 3\n",
    "1. and my_fn(sum,\\[1,2,3\\]) returns 6\n",
    "1. Try also bool, max, sorted ....\n",
    "1. What happens if you pass a function that doesn't work on a list, like float()?"
   ]
  },
  {
   "cell_type": "code",
   "execution_count": 1,
   "id": "a46cd2b5",
   "metadata": {},
   "outputs": [],
   "source": [
    "# A function with a function as a parameter\n",
    "# Your code here"
   ]
  },
  {
   "cell_type": "markdown",
   "id": "53eab727",
   "metadata": {},
   "source": [
    "\n",
    "#### Exercise 3\n",
    "1. Write a function that defines and returns a function\n",
    "1. \n",
    "1. You can use **def** inside a function.\n",
    "1. This idea is used in more advanced programming topics like decorators and closures\n",
    "1. Here we just want to demonstrate the basic idea that to Python, a function can be treated like any other object and used as a return value.\n",
    "1. Run the outer function and set the return value to a variable.\n",
    "1. Check that the variable is a function\n",
    "1. Call the variable and check the result is as expected\n"
   ]
  },
  {
   "cell_type": "code",
   "execution_count": 2,
   "id": "8aad8049",
   "metadata": {},
   "outputs": [],
   "source": [
    "# A function that returns a function\n",
    "# Your code here"
   ]
  },
  {
   "cell_type": "markdown",
   "id": "0764cd23",
   "metadata": {},
   "source": [
    "### Using the map and filter functions in Python\n",
    "Documentation \n",
    "* https://python-reference.readthedocs.io/en/latest/docs/functions/map.html\n",
    "* https://python-reference.readthedocs.io/en/latest/docs/functions/filter.html\n",
    "\n",
    "These are both functions that take a function as one of their parameters, and apply it to every item in a container such as a list.\n",
    "\n",
    "They come from functional programming ideas, and they are one way of avoiding writing loops which often makes code clearer.\n",
    "\n",
    "\n",
    "#### Exercise 4\n",
    "1. Use the **map** function to produce a list of distances in miles from a list of distances in kilometers. (Divide by 1.6, roughly)\n",
    "1. Use the **filter** function to remove all distances less than 1 from the list\n",
    "* Note that the map function and the filter function do not return lists. They return **iterators** that can give their contents one by one. This is more efficient for large lists, using less memory.\n",
    "\n",
    "\n",
    "\n",
    "\n",
    "\n",
    "\n"
   ]
  },
  {
   "cell_type": "code",
   "execution_count": 3,
   "id": "fae430df",
   "metadata": {},
   "outputs": [],
   "source": [
    "# Exercise 4\n",
    "# We need some functions that can be passed to the map and filter functions to apply to a list\n",
    "# These simple functions could also be written as anonymous 'lambda' functions\n",
    "# Your code here"
   ]
  },
  {
   "cell_type": "code",
   "execution_count": 24,
   "id": "cd3ff801",
   "metadata": {},
   "outputs": [],
   "source": [
    "# Can you apply your functions sequentially, filtering the mapped list?\n",
    "# Any unexpected results?"
   ]
  },
  {
   "cell_type": "markdown",
   "id": "6d90aab0",
   "metadata": {},
   "source": [
    "#### Exercise 5\n",
    "\n",
    "1. Write a function that replaces a list of words with the words in uppercase, followed by !\n",
    "1. Test it using map on a list of words (of your choice)\n"
   ]
  },
  {
   "cell_type": "code",
   "execution_count": 4,
   "id": "86fa3a82",
   "metadata": {},
   "outputs": [],
   "source": [
    "# Your code here"
   ]
  },
  {
   "cell_type": "markdown",
   "id": "1734daab",
   "metadata": {},
   "source": [
    "### Pure functions\n",
    "* Not the usual programming functions that can do a variety of things (save to files, print to screen etc)\n",
    "* More like mathematical functions sending input to output with no side effects\n",
    "* May be called transformations\n",
    "\n",
    "\n",
    "#### Exercise 6\n",
    "\n",
    "In mathematics *function* is just a relationship between input and output... ( old -> new)\n",
    "\n",
    "$f(x_1, x_2) = x_1 + x_2$ \n",
    "\n",
    "Write this mathematical function as a Python function."
   ]
  },
  {
   "cell_type": "code",
   "execution_count": 5,
   "id": "572551fa",
   "metadata": {},
   "outputs": [],
   "source": [
    "# Your code here"
   ]
  },
  {
   "cell_type": "markdown",
   "id": "1c8094a0",
   "metadata": {},
   "source": [
    "### Procedures or actions - in functional programming\n",
    "\n",
    "Procedures are operations *on the world* which change it in ways that are **hard** to understand. Most procedures are i/o, ie., they access and modify input-output devices (eg., hard disk, screen, printer...). \n",
    "\n",
    "Procedure, def., a sequence of actions *which change the world* which must come in a particular order. \n",
    "\n",
    "Consider... building a report:\n",
    "* print() a page\n",
    "* send() an email\n",
    "* print() the email reply\n",
    "* staple() everything together"
   ]
  },
  {
   "cell_type": "markdown",
   "id": "59239168",
   "metadata": {},
   "source": [
    "#### Exercise 7\n",
    "\n",
    "1. We have a collection of reviews which contain text and a numerical score, in a variety of formats.\n",
    "1. Goal: compute the offical review score from all the reviews (ie., `mean()`)\n",
    "1. Use pure functions to solve this problem, combining several simple functions like a pipeline to produce the answer.\n",
    "\n",
    "\n",
    "* reviews -> scores -> total score -> offical review score\n",
    "\n",
    "#### HINTS\n",
    "* define a list of reviews\n",
    "    * eg., a list of strings `['5*! Amazing', '4* Good', '5* Great']`\n",
    "* `def extract_score`\n",
    "    * `review = '5* AMAZING'`\n",
    "    * `review[0]`\n",
    "* `def total_score`\n",
    "* `def official_score`\n",
    "    * HINT: `from statistics import mean`\n",
    "    \n",
    "* EXTRA:\n",
    "    * define a formatting function which takes reviews and offical scores and produces a *report string* for each\n",
    "    * print reports for all films"
   ]
  },
  {
   "cell_type": "code",
   "execution_count": 27,
   "id": "98447237",
   "metadata": {},
   "outputs": [],
   "source": [
    "# Your code here\n"
   ]
  },
  {
   "cell_type": "markdown",
   "id": "74b1e0b6",
   "metadata": {},
   "source": [
    "### What is useful about pure functions?\n",
    "* Not making changes outside the function makes them simpler to use.\n",
    "* If a pipeline of pure functions fails, there is nothing to undo and we can start again from the initial data which will not have been changed.\n",
    "* If data outside the function was changed, \n",
    "  * it is harder to roll back from errors and restart.\n",
    "  * it is harder to work out exactly what happened.\n",
    "\n",
    "#### It is generally a good idea to give functions data as parameters, and pass back results as return values. This keeps the behaviour clear and well defined. Letting a function change its arguments or change external data makes it harder to understand, especially in large complex situations.\n",
    "\n",
    "#### Using functions such as map and filter helps avoid writing loops and can make programs clearer.\n",
    "\n"
   ]
  },
  {
   "cell_type": "markdown",
   "id": "4a3ec1da",
   "metadata": {},
   "source": [
    "### Python list comprehensions\n",
    "* Build new lists from old lists in a succinct syntax\n",
    "* Also an idea imported from functional programming\n",
    "* And another way of simplifying code by removing loops\n",
    "* new_dataset = \\[ function-on-element for element-name in old_dataset \\]\n",
    "* also possible to filter using if\n",
    "* and similar syntax exists for building dictionary and set comprehensions.\n",
    "\n"
   ]
  },
  {
   "cell_type": "code",
   "execution_count": 28,
   "id": "aaa0bd4b",
   "metadata": {},
   "outputs": [],
   "source": [
    "user_input = ['', '0', 'Hello Sir!']\n",
    "prices = [10, 0, 20]\n",
    "observations = [(0, 1.1), (1, 2.1), (2, 3.5)]\n",
    "\n"
   ]
  },
  {
   "cell_type": "markdown",
   "id": "4c8382b8",
   "metadata": {},
   "source": [
    "#### Exercise 8\n",
    "1. Using the lists above, use list comprehensions to:\n",
    "1. Make a new list that contains the length of the strings in user_input\n",
    "1. Make a new list that contains the first digit of each price as a string\n",
    "1. Make a new list that contains the sum of the two numbers in observations"
   ]
  },
  {
   "cell_type": "code",
   "execution_count": 29,
   "id": "e8679d79",
   "metadata": {},
   "outputs": [
    {
     "data": {
      "text/plain": [
       "[0, 1, 10]"
      ]
     },
     "execution_count": 29,
     "metadata": {},
     "output_type": "execute_result"
    }
   ],
   "source": [
    "# Your list comprehension here"
   ]
  },
  {
   "cell_type": "code",
   "execution_count": 30,
   "id": "63a7824d",
   "metadata": {},
   "outputs": [
    {
     "data": {
      "text/plain": [
       "['1', '0', '2']"
      ]
     },
     "execution_count": 30,
     "metadata": {},
     "output_type": "execute_result"
    }
   ],
   "source": [
    "# Your list comprehension here"
   ]
  },
  {
   "cell_type": "code",
   "execution_count": 31,
   "id": "ba8b63f9",
   "metadata": {},
   "outputs": [
    {
     "data": {
      "text/plain": [
       "[1.1, 3.1, 5.5]"
      ]
     },
     "execution_count": 31,
     "metadata": {},
     "output_type": "execute_result"
    }
   ],
   "source": [
    "# Your list comprehension here"
   ]
  },
  {
   "cell_type": "markdown",
   "id": "145ae699",
   "metadata": {},
   "source": [
    "At this stage you are unlikely to need to write your own functions but these ideas will come up again towards the end of the program. Using **map** or **filter** to create a transformed dataset in one step may be useful, in practice you are likely to use versions built in to the data science/analysis libraries such as pandas.\n",
    "\n",
    "* https://pandas.pydata.org/docs/reference/api/pandas.Series.map.html\n",
    "* https://pandas.pydata.org/docs/reference/api/pandas.DataFrame.filter.html"
   ]
  }
 ],
 "metadata": {
  "kernelspec": {
   "display_name": "Python 3",
   "language": "python",
   "name": "python3"
  },
  "language_info": {
   "codemirror_mode": {
    "name": "ipython",
    "version": 3
   },
   "file_extension": ".py",
   "mimetype": "text/x-python",
   "name": "python",
   "nbconvert_exporter": "python",
   "pygments_lexer": "ipython3",
   "version": "3.8.8"
  }
 },
 "nbformat": 4,
 "nbformat_minor": 5
}
