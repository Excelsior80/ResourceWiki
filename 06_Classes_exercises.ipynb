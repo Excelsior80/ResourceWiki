{
 "cells": [
  {
   "cell_type": "markdown",
   "id": "4368737c",
   "metadata": {},
   "source": [
    "### This chapter covers creating objects and classes in Python\n",
    "* As with functions and modules, as a data scientist you may not need to create your own classes at this stage. \n",
    "* ... but uderstanding the basics will help you follow other people's code, including code in library modules.\n",
    "* A class defines objects, and is fundamental in Python ... for example the str class defines the properties of Python strings, including string methods such as .upper()\n",
    "\n"
   ]
  },
  {
   "cell_type": "markdown",
   "id": "a9635b58",
   "metadata": {},
   "source": [
    "#### Exercise 1\n",
    "\n",
    "* We are designing a class to store medical data for individuals, and report on their general health.\n",
    "* What do we need to decide?\n",
    "* Data and methods.\n",
    "\n",
    "* The \\_\\_init\\_\\_ : What attributes does a person have?\n",
    "* The methods:  What can a person do / what can we do with a person?\n",
    "\n",
    "```\n",
    "* Person\n",
    "    * has:\n",
    "        * Heart Rate hr\n",
    "        * Blood Pressure bp\n",
    "    * can:\n",
    "        * predict_prognosis()\n",
    "```\n",
    "\n",
    "* starting with the following definition of a person:\n",
    "\n",
    "```python\n",
    "class Person:\n",
    "    def __init__(self, hr, bp):\n",
    "        self.heart_rate = hr\n",
    "        self.blood_pressure = bp\n",
    "            \n",
    "    def predict_prognosis(self):\n",
    "        return 0.1 * self.heart_rate + 0.1 * self.blood_pressure + 5\n",
    "\n",
    "   \n",
    "```"
   ]
  },
  {
   "cell_type": "markdown",
   "id": "d75c3fdd",
   "metadata": {},
   "source": [
    "1. add a blood sugar field\n",
    "    * add a new argument to the __init__\n",
    "    * use this to set a new field `.`\n",
    "    * eg, `self.blood_pressure`\n",
    "    \n",
    "1. revise `predict_prognosis` to use your blood pressure field\n",
    "    * eg., + `self.blood_pressure` \n",
    "    \n",
    "1. add a new method called `report()`\n",
    "    * it should accept a `self` argument\n",
    "        * this provides access to all the fields and other methods\n",
    "    * `print()` a report of all the fields\n",
    "        * ie., `self.blood_pressure` etc.\n",
    "    * `print()` a report of the prognosis\n",
    "        * `self.predict_prognosis()`\n",
    "1. create a new object from this template\n",
    "    * eg., `you = Person(160, 190, 4)`\n",
    "    \n",
    "1. and then ask the person to `.report()`\n",
    "\n",
    "        "
   ]
  },
  {
   "cell_type": "code",
   "execution_count": 1,
   "id": "d104be7b",
   "metadata": {},
   "outputs": [],
   "source": [
    "# A Person class for a medical application\n",
    "# Your code here"
   ]
  },
  {
   "cell_type": "markdown",
   "id": "c9b58839",
   "metadata": {},
   "source": [
    "#### Exercise 2\n",
    "1. We are writing code to store data about networks.\n",
    "1. Each network consists of a set of nodes linked by edges.\n",
    "1. Each node will have a name, a unique id, and a list of connected nodes ids.\n",
    "1. Write a Node class with \n",
    "  * an \\_\\_init\\_\\_ method to create an empty Node with no connected nodes, and no name or id\n",
    "  * the name and the list of connected nodes as the data.\n",
    "  * a method to return the number of nodes it is connected to (its order). \n",
    "  * a method to add a node to the connected list.\n",
    "1. Suggest another method that might be needed.\n",
    "\n",
    "* Create some nodes to check that the code works.\n",
    "* This is a rough example of the basic idea and there is no need to add advanced features, or check that a node exists before adding it, or make sure the id is unique.\n",
    "\n",
    "\n"
   ]
  },
  {
   "cell_type": "code",
   "execution_count": 2,
   "id": "dbab2174",
   "metadata": {},
   "outputs": [],
   "source": [
    "# A Node class in Python\n",
    "\n",
    "# Your code here\n",
    "        \n",
    "        "
   ]
  },
  {
   "cell_type": "code",
   "execution_count": 3,
   "id": "efd93505",
   "metadata": {},
   "outputs": [],
   "source": [
    "# Check that we can create nodes from the class definition,\n",
    "# and add connected nodes "
   ]
  },
  {
   "cell_type": "markdown",
   "id": "b53bc6ff",
   "metadata": {},
   "source": [
    "* You can see examples of class definitions in the Python standard library - Python is open source so we can look at the actual code.\n",
    "\n",
    "* For example, roughly what does the Calendar class do? https://github.com/python/cpython/blob/3.10/Lib/calendar.py\n",
    "\n",
    "* In the last chapter we said that importing a module gives us access to its functions.\n",
    "* Modules may also include classes, and importing a module will allow us to create and use objects of those classes.\n",
    "\n",
    "\n"
   ]
  }
 ],
 "metadata": {
  "kernelspec": {
   "display_name": "Python 3",
   "language": "python",
   "name": "python3"
  },
  "language_info": {
   "codemirror_mode": {
    "name": "ipython",
    "version": 3
   },
   "file_extension": ".py",
   "mimetype": "text/x-python",
   "name": "python",
   "nbconvert_exporter": "python",
   "pygments_lexer": "ipython3",
   "version": "3.8.8"
  }
 },
 "nbformat": 4,
 "nbformat_minor": 5
}
